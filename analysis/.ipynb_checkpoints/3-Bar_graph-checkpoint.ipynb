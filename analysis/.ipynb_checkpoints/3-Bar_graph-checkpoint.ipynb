{
 "cells": [
  {
   "cell_type": "markdown",
   "id": "b0b2a549-1b0b-405b-a536-36a45434eb9e",
   "metadata": {
    "tags": []
   },
   "source": [
    "---\n",
    "format: \n",
    "  html:\n",
    "    toc: false\n",
    "    page-layout: full\n",
    "execute:\n",
    "    echo: false\n",
    "---"
   ]
  },
  {
   "cell_type": "markdown",
   "id": "481530d3-4256-4271-b03a-97e86e37ea74",
   "metadata": {
    "jp-MarkdownHeadingCollapsed": true,
    "tags": []
   },
   "source": [
    "<div class=\"text-box\">\n",
    "\n",
    "# 1.3 Comparing Black/White Latino Per Tract Median Household Income\n",
    "\n",
    "Using the \"identity_with_tracts\" geojson from Part 1.1, I'll create a bar graph with Altair to compare the Median Household Income of tracts that have more Black-Latines than White-Latines and Vice Versa\n",
    "    \n",
    "</div>\n",
    "\n",
    "    \n",
    "\n",
    "\n"
   ]
  },
  {
   "cell_type": "code",
   "execution_count": 2,
   "id": "7864988a-813b-4598-b62e-d878d5ba8acc",
   "metadata": {
    "tags": []
   },
   "outputs": [],
   "source": [
    "\n",
    "import altair as alt\n",
    "import geopandas as gpd\n",
    "import hvplot.pandas\n",
    "import numpy as np\n",
    "import pandas as pd\n",
    "import seaborn as sns\n",
    "from matplotlib import pyplot as plt\n",
    "import requests\n",
    "\n",
    "import warnings\n",
    "\n",
    "warnings.filterwarnings(\"ignore\")\n",
    "\n",
    "\n",
    "\n",
    "\n",
    "\n"
   ]
  },
  {
   "cell_type": "markdown",
   "id": "15126ff4-01ea-4104-81f7-399d1cb9642d",
   "metadata": {},
   "source": [
    "<div class=\"text-box\">"
   ]
  },
  {
   "cell_type": "code",
   "execution_count": 2,
   "id": "8358108b-abec-4108-9adb-d8322ab2c4dc",
   "metadata": {
    "tags": []
   },
   "outputs": [
    {
     "data": {
      "text/html": [
       "\n",
       "<style>\n",
       "  #altair-viz-a20c572ae4f74db784ea1a8f337f3a2e.vega-embed {\n",
       "    width: 100%;\n",
       "    display: flex;\n",
       "  }\n",
       "\n",
       "  #altair-viz-a20c572ae4f74db784ea1a8f337f3a2e.vega-embed details,\n",
       "  #altair-viz-a20c572ae4f74db784ea1a8f337f3a2e.vega-embed details summary {\n",
       "    position: relative;\n",
       "  }\n",
       "</style>\n",
       "<div id=\"altair-viz-a20c572ae4f74db784ea1a8f337f3a2e\"></div>\n",
       "<script type=\"text/javascript\">\n",
       "  var VEGA_DEBUG = (typeof VEGA_DEBUG == \"undefined\") ? {} : VEGA_DEBUG;\n",
       "  (function(spec, embedOpt){\n",
       "    let outputDiv = document.currentScript.previousElementSibling;\n",
       "    if (outputDiv.id !== \"altair-viz-a20c572ae4f74db784ea1a8f337f3a2e\") {\n",
       "      outputDiv = document.getElementById(\"altair-viz-a20c572ae4f74db784ea1a8f337f3a2e\");\n",
       "    }\n",
       "    const paths = {\n",
       "      \"vega\": \"https://cdn.jsdelivr.net/npm/vega@5?noext\",\n",
       "      \"vega-lib\": \"https://cdn.jsdelivr.net/npm/vega-lib?noext\",\n",
       "      \"vega-lite\": \"https://cdn.jsdelivr.net/npm/vega-lite@5.14.1?noext\",\n",
       "      \"vega-embed\": \"https://cdn.jsdelivr.net/npm/vega-embed@6?noext\",\n",
       "    };\n",
       "\n",
       "    function maybeLoadScript(lib, version) {\n",
       "      var key = `${lib.replace(\"-\", \"\")}_version`;\n",
       "      return (VEGA_DEBUG[key] == version) ?\n",
       "        Promise.resolve(paths[lib]) :\n",
       "        new Promise(function(resolve, reject) {\n",
       "          var s = document.createElement('script');\n",
       "          document.getElementsByTagName(\"head\")[0].appendChild(s);\n",
       "          s.async = true;\n",
       "          s.onload = () => {\n",
       "            VEGA_DEBUG[key] = version;\n",
       "            return resolve(paths[lib]);\n",
       "          };\n",
       "          s.onerror = () => reject(`Error loading script: ${paths[lib]}`);\n",
       "          s.src = paths[lib];\n",
       "        });\n",
       "    }\n",
       "\n",
       "    function showError(err) {\n",
       "      outputDiv.innerHTML = `<div class=\"error\" style=\"color:red;\">${err}</div>`;\n",
       "      throw err;\n",
       "    }\n",
       "\n",
       "    function displayChart(vegaEmbed) {\n",
       "      vegaEmbed(outputDiv, spec, embedOpt)\n",
       "        .catch(err => showError(`Javascript Error: ${err.message}<br>This usually means there's a typo in your chart specification. See the javascript console for the full traceback.`));\n",
       "    }\n",
       "\n",
       "    if(typeof define === \"function\" && define.amd) {\n",
       "      requirejs.config({paths});\n",
       "      require([\"vega-embed\"], displayChart, err => showError(`Error loading script: ${err.message}`));\n",
       "    } else {\n",
       "      maybeLoadScript(\"vega\", \"5\")\n",
       "        .then(() => maybeLoadScript(\"vega-lite\", \"5.14.1\"))\n",
       "        .then(() => maybeLoadScript(\"vega-embed\", \"6\"))\n",
       "        .catch(showError)\n",
       "        .then(() => displayChart(vegaEmbed));\n",
       "    }\n",
       "  })({\"config\": {\"view\": {\"continuousWidth\": 300, \"continuousHeight\": 300}}, \"data\": {\"name\": \"data-3b8f5773690f62d517ac9b90d750282e\"}, \"mark\": {\"type\": \"bar\"}, \"encoding\": {\"color\": {\"field\": \"Tract Group\", \"legend\": null, \"scale\": {\"domain\": [\"Tracts where White Latino > Black Latino\", \"Tracts where Black Latino > White Latino\"], \"range\": [\"orange\", \"red\"]}, \"type\": \"nominal\"}, \"tooltip\": [{\"field\": \"Tract Group\", \"title\": \"Tract Group\", \"type\": \"nominal\"}, {\"field\": \"Median Household Income\", \"format\": \",.0f\", \"title\": \"Mean of Median Household Incomes\", \"type\": \"quantitative\"}], \"x\": {\"field\": \"Tract Group\", \"sort\": null, \"title\": \"\", \"type\": \"nominal\"}, \"y\": {\"field\": \"Median Household Income\", \"title\": \"Median Household Income\", \"type\": \"quantitative\"}}, \"height\": 300, \"title\": \"Comparing Means of Median Household Income\", \"width\": 400, \"$schema\": \"https://vega.github.io/schema/vega-lite/v5.14.1.json\", \"datasets\": {\"data-3b8f5773690f62d517ac9b90d750282e\": [{\"Tract Group\": \"Tracts where White Latino > Black Latino\", \"Median Household Income\": 58261.403333333335}, {\"Tract Group\": \"Tracts where Black Latino > White Latino\", \"Median Household Income\": 38469.55882352941}]}}, {\"mode\": \"vega-lite\"});\n",
       "</script>"
      ],
      "text/plain": [
       "alt.Chart(...)"
      ]
     },
     "execution_count": 2,
     "metadata": {},
     "output_type": "execute_result"
    }
   ],
   "source": [
    "#| echo: true\n",
    "#| code-fold: true\n",
    "identity_with_tracts=gpd.read_file(\"identity_with_tracts.geojson\")\n",
    "\n",
    "\n",
    "\n",
    "numeric_cols = [\n",
    "    \"Median Household Income\",\n",
    "    \"Bachelors Degree or Higher\",\n",
    "    \"Associates Degree\",\n",
    "    \"White and Latino/Hispanic\",\n",
    "    \"Black and Latino/Hispanic\",\n",
    "]\n",
    "for col in numeric_cols:\n",
    "    identity_with_tracts[col] = pd.to_numeric(identity_with_tracts[col], errors='coerce')\n",
    "\n",
    "white_greater_df = identity_with_tracts[identity_with_tracts[\"White and Latino/Hispanic\"] > identity_with_tracts[\"Black and Latino/Hispanic\"]]\n",
    "black_greater_df = identity_with_tracts[identity_with_tracts[\"Black and Latino/Hispanic\"] > identity_with_tracts[\"White and Latino/Hispanic\"]]\n",
    "\n",
    "median_white_greater = white_greater_df[\"Median Household Income\"].mean()\n",
    "median_black_greater = black_greater_df[\"Median Household Income\"].mean()\n",
    "\n",
    "data = pd.DataFrame({\n",
    "    'Tract Group': [\n",
    "        \"Tracts where White Latino > Black Latino\", \n",
    "        \"Tracts where Black Latino > White Latino\"\n",
    "    ],\n",
    "    'Median Household Income': [\n",
    "        median_white_greater, \n",
    "        median_black_greater\n",
    "    ]\n",
    "})\n",
    "\n",
    "chart = (\n",
    "    alt.Chart(data)\n",
    "    .mark_bar()\n",
    "    .encode(\n",
    "        x=alt.X('Tract Group:N', title='', sort=None),\n",
    "        y=alt.Y('Median Household Income:Q', title='Median Household Income'),\n",
    "        tooltip=[\n",
    "            alt.Tooltip('Tract Group:N', title='Tract Group'),\n",
    "            alt.Tooltip('Median Household Income:Q', format=',.0f', title='Mean of Median Household Incomes')\n",
    "        ],\n",
    "        color=alt.Color(\n",
    "            'Tract Group:N', \n",
    "            scale=alt.Scale(\n",
    "                domain=[\n",
    "                    \"Tracts where White Latino > Black Latino\", \n",
    "                    \"Tracts where Black Latino > White Latino\"\n",
    "                ],\n",
    "                range=[\"orange\", \"red\"]\n",
    "            ),\n",
    "            legend=None  \n",
    "        )\n",
    "    )\n",
    "    .properties(\n",
    "        title=\"Comparing Means of Median Household Income\",\n",
    "        width=400,\n",
    "        height=300\n",
    "    )\n",
    ")\n",
    "\n",
    "chart\n"
   ]
  },
  {
   "cell_type": "markdown",
   "id": "4646f4e0-062d-45e8-bb5b-29c637bb1637",
   "metadata": {},
   "source": [
    "</div>\n",
    "\n",
    "<div class=\"text-box\">\n",
    "\n",
    "## Analysis\n",
    "\n",
    "Based off of the above Altair bar plot, the following conclusion can be made; \n",
    "\n",
    "**On average,  census tracts with a higher amount of Black Latine/Hispanics have a median \"Median Household Income\" that is around $20,000 less compared to census tracts with a higher reported population of White Latine/Hispanics as reported in the 2020 American Community Survey**\n",
    "    \n",
    "The previous statement answers the first research question \"What are the differences between Median Household Income of tracts that contain more Black Latino/Hispanics in comparison to White Latino/Hispanic\". \n",
    "    \n",
    "Finding the differences in Median Household Income between White-Latino and Black-Latinos are important to showcase the racial differences within the broad Latino ethnic identity. Findings such as these can begin to cataylyze efforts in disaggregating Latino identity in data. \n",
    "    \n",
    "Specifically, these findings can influence organizations, such as post-secondary institutions, to begin noticing the differences within racial identity within the broad Latine ethnicity. Highiltghing potential disapprities within the Latine identity can influence post-secondary institutions to begin allocating resources and support to more marginalized Latine racial groups. \n",
    "    \n"
   ]
  },
  {
   "cell_type": "markdown",
   "id": "abec946b-a7f9-4478-b438-395742495e2e",
   "metadata": {},
   "source": [
    "</div>"
   ]
  },
  {
   "cell_type": "code",
   "execution_count": null,
   "id": "6b7bfcac-071c-4d29-b81f-10fe79b93c2e",
   "metadata": {},
   "outputs": [],
   "source": []
  }
 ],
 "metadata": {
  "kernelspec": {
   "display_name": "Python 3 (ipykernel)",
   "language": "python",
   "name": "python3"
  },
  "language_info": {
   "codemirror_mode": {
    "name": "ipython",
    "version": 3
   },
   "file_extension": ".py",
   "mimetype": "text/x-python",
   "name": "python",
   "nbconvert_exporter": "python",
   "pygments_lexer": "ipython3",
   "version": "3.10.12"
  }
 },
 "nbformat": 4,
 "nbformat_minor": 5
}
